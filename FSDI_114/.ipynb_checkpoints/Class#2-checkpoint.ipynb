{
 "cells": [
  {
   "cell_type": "code",
   "execution_count": 1,
   "id": "b0d022bc",
   "metadata": {},
   "outputs": [],
   "source": [
    "# This is an example of a stack using built-in data structures\n",
    "# User-defined Data Structure\n",
    "\n",
    "class Stack:\n",
    "    def __init__(self):\n",
    "        self.items = []\n",
    "    \n",
    "    def push(self,item):\n",
    "        self.items.append(item)\n",
    "\n",
    "    def pop(self):\n",
    "        return self.items.pop()\n",
    "\n",
    "    def is_empty(self):\n",
    "        return self.items == []\n",
    "\n",
    "    def peek(self):\n",
    "        return self.items[len(self.items)-1]\n",
    "    "
   ]
  },
  {
   "cell_type": "code",
   "execution_count": 2,
   "id": "e46d4dd5",
   "metadata": {},
   "outputs": [
    {
     "ename": "SyntaxError",
     "evalue": "invalid syntax (501304054.py, line 1)",
     "output_type": "error",
     "traceback": [
      "\u001b[0;36m  Input \u001b[0;32mIn [2]\u001b[0;36m\u001b[0m\n\u001b[0;31m    def reverse(mystring): -pass\u001b[0m\n\u001b[0m                            ^\u001b[0m\n\u001b[0;31mSyntaxError\u001b[0m\u001b[0;31m:\u001b[0m invalid syntax\n"
     ]
    }
   ],
   "source": [
    "def reverse(mystring): -pass\n",
    "\n",
    "from time import sleep\n",
    "\n",
    "def reverse(mystring):\n",
    "    stack = Stack()\n",
    "    out = \"\"\n",
    "    for letter in mystring:\n",
    "        print(\"Adding %s to our stack\" % letter)\n",
    "        sleep(1)\n",
    "        stack.push(letter)\n",
    "    while stack.is_empty() != True:\n",
    "        char = stack.pop()\n",
    "        print(\"Adding %s to our output string\" % char)\n",
    "        sleep(1)\n",
    "        out = out + char\n",
    "    return out\n",
    "\n",
    "print(reverse(\"Rafael\"))\n",
    "print(reverse(\"racecar\"))\n",
    "print(reverse(\"AbCdE\"))\n"
   ]
  },
  {
   "cell_type": "code",
   "execution_count": 3,
   "id": "1cd0e7e8",
   "metadata": {},
   "outputs": [
    {
     "name": "stdout",
     "output_type": "stream",
     "text": [
      "Adding R to our stack\n",
      "Adding a to our stack\n",
      "Adding f to our stack\n",
      "Adding a to our stack\n",
      "Adding e to our stack\n",
      "Adding l to our stack\n",
      "Adding l to our output string\n",
      "Adding e to our output string\n",
      "Adding a to our output string\n",
      "Adding f to our output string\n",
      "Adding a to our output string\n",
      "Adding R to our output string\n",
      "leafaR\n",
      "Adding r to our stack\n",
      "Adding a to our stack\n",
      "Adding c to our stack\n",
      "Adding e to our stack\n",
      "Adding c to our stack\n",
      "Adding a to our stack\n",
      "Adding r to our stack\n",
      "Adding r to our output string\n",
      "Adding a to our output string\n",
      "Adding c to our output string\n",
      "Adding e to our output string\n",
      "Adding c to our output string\n",
      "Adding a to our output string\n",
      "Adding r to our output string\n",
      "racecar\n",
      "Adding A to our stack\n",
      "Adding b to our stack\n",
      "Adding C to our stack\n",
      "Adding d to our stack\n",
      "Adding E to our stack\n",
      "Adding E to our output string\n",
      "Adding d to our output string\n",
      "Adding C to our output string\n",
      "Adding b to our output string\n",
      "Adding A to our output string\n",
      "EdCbA\n"
     ]
    }
   ],
   "source": [
    "from time import sleep\n",
    "\n",
    "def reverse(mystring):\n",
    "    stack = Stack()\n",
    "    out = \"\"\n",
    "    for letter in mystring:\n",
    "        print(\"Adding %s to our stack\" % letter)\n",
    "        sleep(1)\n",
    "        stack.push(letter)\n",
    "    while stack.is_empty() != True:\n",
    "        char = stack.pop()\n",
    "        print(\"Adding %s to our output string\" % char)\n",
    "        sleep(1)\n",
    "        out = out + char\n",
    "    return out\n",
    "\n",
    "print(reverse(\"Rafael\"))\n",
    "print(reverse(\"racecar\"))\n",
    "print(reverse(\"AbCdE\"))"
   ]
  },
  {
   "cell_type": "code",
   "execution_count": 4,
   "id": "ab88da6c",
   "metadata": {},
   "outputs": [],
   "source": [
    "from random import randint\n",
    "from time import sleep\n",
    "\n",
    "def square_queue(elements):\n",
    "    queue = Queue()\n",
    "    for element in elements:\n",
    "        print(\"Adding %s to our queue.\" % element)\n",
    "        queue.enqueue(element)\n",
    "    while not queue.is_empty():\n",
    "        datum = queue.dequeue()\n",
    "        sleep(randint(1,3))\n",
    "        print(\"%s squared is %s\" % (datum, datum**2))"
   ]
  },
  {
   "cell_type": "code",
   "execution_count": 5,
   "id": "c9353445",
   "metadata": {},
   "outputs": [
    {
     "ename": "NameError",
     "evalue": "name 'Queue' is not defined",
     "output_type": "error",
     "traceback": [
      "\u001b[0;31m---------------------------------------------------------------------------\u001b[0m",
      "\u001b[0;31mNameError\u001b[0m                                 Traceback (most recent call last)",
      "Input \u001b[0;32mIn [5]\u001b[0m, in \u001b[0;36m<cell line: 1>\u001b[0;34m()\u001b[0m\n\u001b[0;32m----> 1\u001b[0m \u001b[43msquare_queue\u001b[49m\u001b[43m(\u001b[49m\u001b[43m[\u001b[49m\u001b[38;5;241;43m1\u001b[39;49m\u001b[43m,\u001b[49m\u001b[43m \u001b[49m\u001b[38;5;241;43m2\u001b[39;49m\u001b[43m,\u001b[49m\u001b[43m \u001b[49m\u001b[38;5;241;43m3\u001b[39;49m\u001b[43m,\u001b[49m\u001b[43m \u001b[49m\u001b[38;5;241;43m4\u001b[39;49m\u001b[43m,\u001b[49m\u001b[43m \u001b[49m\u001b[38;5;241;43m5\u001b[39;49m\u001b[43m]\u001b[49m\u001b[43m)\u001b[49m\n",
      "Input \u001b[0;32mIn [4]\u001b[0m, in \u001b[0;36msquare_queue\u001b[0;34m(elements)\u001b[0m\n\u001b[1;32m      4\u001b[0m \u001b[38;5;28;01mdef\u001b[39;00m \u001b[38;5;21msquare_queue\u001b[39m(elements):\n\u001b[0;32m----> 5\u001b[0m     queue \u001b[38;5;241m=\u001b[39m \u001b[43mQueue\u001b[49m()\n\u001b[1;32m      6\u001b[0m     \u001b[38;5;28;01mfor\u001b[39;00m element \u001b[38;5;129;01min\u001b[39;00m elements:\n\u001b[1;32m      7\u001b[0m         \u001b[38;5;28mprint\u001b[39m(\u001b[38;5;124m\"\u001b[39m\u001b[38;5;124mAdding \u001b[39m\u001b[38;5;132;01m%s\u001b[39;00m\u001b[38;5;124m to our queue.\u001b[39m\u001b[38;5;124m\"\u001b[39m \u001b[38;5;241m%\u001b[39m element)\n",
      "\u001b[0;31mNameError\u001b[0m: name 'Queue' is not defined"
     ]
    }
   ],
   "source": [
    "square_queue([1, 2, 3, 4, 5])"
   ]
  },
  {
   "cell_type": "code",
   "execution_count": 6,
   "id": "6ba71856",
   "metadata": {},
   "outputs": [],
   "source": [
    "class Node:\n",
    "    def __init__(self, data):\n",
    "        self.data = data\n",
    "        self.above = None"
   ]
  },
  {
   "cell_type": "code",
   "execution_count": 8,
   "id": "3d30bf56",
   "metadata": {},
   "outputs": [
    {
     "ename": "IndentationError",
     "evalue": "unindent does not match any outer indentation level (<tokenize>, line 4)",
     "output_type": "error",
     "traceback": [
      "\u001b[0;36m  File \u001b[0;32m<tokenize>:4\u001b[0;36m\u001b[0m\n\u001b[0;31m    def push(self, item):\u001b[0m\n\u001b[0m    ^\u001b[0m\n\u001b[0;31mIndentationError\u001b[0m\u001b[0;31m:\u001b[0m unindent does not match any outer indentation level\n"
     ]
    }
   ],
   "source": [
    "def __init__(self):\n",
    "        self.base = None\n",
    "\n",
    "    def push(self, item):\n",
    "        if not self.base:\n",
    "            self.base = Node(item)\n",
    "        else:\n",
    "            current = self.base\n",
    "            while current.above: # while current.above != None\n",
    "                current = current.above\n",
    "            current.above = Node(item)\n",
    "\n",
    "    def pop(self):\n",
    "        pass\n",
    "\n",
    "    def is_empty(self):\n",
    "        if not self.base:\n",
    "            return True\n",
    "        return False\n",
    "\n",
    "    def size(self):\n",
    "        pass\n",
    "\n",
    "    def peek(self):\n",
    "        pass"
   ]
  },
  {
   "cell_type": "code",
   "execution_count": null,
   "id": "dc9c0c62",
   "metadata": {},
   "outputs": [],
   "source": []
  }
 ],
 "metadata": {
  "kernelspec": {
   "display_name": "Python 3 (ipykernel)",
   "language": "python",
   "name": "python3"
  },
  "language_info": {
   "codemirror_mode": {
    "name": "ipython",
    "version": 3
   },
   "file_extension": ".py",
   "mimetype": "text/x-python",
   "name": "python",
   "nbconvert_exporter": "python",
   "pygments_lexer": "ipython3",
   "version": "3.8.10"
  }
 },
 "nbformat": 4,
 "nbformat_minor": 5
}
