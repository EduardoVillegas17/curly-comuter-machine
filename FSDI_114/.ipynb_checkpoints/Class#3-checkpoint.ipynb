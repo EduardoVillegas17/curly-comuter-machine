{
 "cells": [
  {
   "cell_type": "code",
   "execution_count": 9,
   "id": "5628bacf",
   "metadata": {},
   "outputs": [
    {
     "ename": "SyntaxError",
     "evalue": "invalid syntax (3671344134.py, line 16)",
     "output_type": "error",
     "traceback": [
      "\u001b[0;36m  Input \u001b[0;32mIn [9]\u001b[0;36m\u001b[0m\n\u001b[0;31m    current = current.above:\u001b[0m\n\u001b[0m                           ^\u001b[0m\n\u001b[0;31mSyntaxError\u001b[0m\u001b[0;31m:\u001b[0m invalid syntax\n"
     ]
    }
   ],
   "source": [
    "class Node:\n",
    "    def __init__(self, data):\n",
    "        self.data = data\n",
    "        self.above = None\n",
    "\n",
    "class Stack:\n",
    "    def __init__(self):\n",
    "        self.base = None\n",
    "\n",
    "    def push(self, item):\n",
    "        if not self.base:\n",
    "            self.base = Node(item)\n",
    "        else:\n",
    "            current = self.base\n",
    "            while current.above:#while current.above !=None\n",
    "                current = current.above:\n",
    "            current.above = Node(item)\n",
    "                \n",
    "    def pop(self):\n",
    "        # remember that both removes and returns the topmost value\n",
    "        # from our stack.\n",
    "        if not self.base:\n",
    "            raise EmpyStackException(\"The stack is empty.\")\n",
    "        if not self.base.above:\n",
    "            datum = self.base.data\n",
    "            self.base = None\n",
    "            return datum\n",
    "        current = self.base\n",
    "        while current.above:\n",
    "            current = current.above\n",
    "        datum = current.data\n",
    "        prev.above = None\n",
    "        return datum\n",
    "            \n",
    "            \n",
    "    def is_empty(self):\n",
    "        if not self.base:\n",
    "            return True\n",
    "        return False\n",
    "        \n",
    "    #def size (self): \n",
    "     #   pass\n",
    "    \n",
    "    #def peek(self):\n",
    "     #   pass\n"
   ]
  },
  {
   "cell_type": "code",
   "execution_count": 10,
   "id": "5f7b9338",
   "metadata": {},
   "outputs": [
    {
     "ename": "SyntaxError",
     "evalue": "invalid syntax (1220901551.py, line 6)",
     "output_type": "error",
     "traceback": [
      "\u001b[0;36m  Input \u001b[0;32mIn [10]\u001b[0;36m\u001b[0m\n\u001b[0;31m    while out\u001b[0m\n\u001b[0m             ^\u001b[0m\n\u001b[0;31mSyntaxError\u001b[0m\u001b[0;31m:\u001b[0m invalid syntax\n"
     ]
    }
   ],
   "source": [
    "def invert(mystring):\n",
    "    stack = Stack()\n",
    "    out = \"\"\n",
    "    for letter in mystring:\n",
    "        stack.puch(letter)\n",
    "    while out"
   ]
  },
  {
   "cell_type": "code",
   "execution_count": 11,
   "id": "64c2d9fb",
   "metadata": {},
   "outputs": [],
   "source": [
    "class Node:\n",
    "    def __init__(self, data):\n",
    "        self.data = data\n",
    "        self.next = None\n"
   ]
  },
  {
   "cell_type": "code",
   "execution_count": 12,
   "id": "687c3a17",
   "metadata": {},
   "outputs": [
    {
     "name": "stderr",
     "output_type": "stream",
     "text": [
      "<>:7: SyntaxWarning: 'NoneType' object is not callable; perhaps you missed a comma?\n",
      "<>:7: SyntaxWarning: 'NoneType' object is not callable; perhaps you missed a comma?\n",
      "/tmp/ipykernel_2469/1842580280.py:7: SyntaxWarning: 'NoneType' object is not callable; perhaps you missed a comma?\n",
      "  self.head = None(item)\n"
     ]
    }
   ],
   "source": [
    "class SinglyLinkedList:\n",
    "    def __init__(self):\n",
    "        self.head = None\n",
    "        \n",
    "    def append(self, item):\n",
    "        if not self.head:\n",
    "            self.head = None(item)\n",
    "        else:\n",
    "            current = self.head\n",
    "            while current.next:\n",
    "                current = current.next\n",
    "            current.next = Node(item)\n",
    "            \n",
    "    def __str__(self):\n",
    "        out = \"[\"\n",
    "        if self.head:\n",
    "            out += \", %s\" % current.data\n",
    "        current = self.head.next\n",
    "        while current:\n",
    "            out += \", %s\" % current.data\n",
    "            current = current.next\n",
    "        out += \"]\"\n",
    "        return out\n",
    "    \n",
    "    def insert(self, target, item):\n",
    "        pass\n",
    "    \n",
    "    def remove(self, target):\n",
    "        pass"
   ]
  },
  {
   "cell_type": "code",
   "execution_count": null,
   "id": "a59efe0d",
   "metadata": {},
   "outputs": [],
   "source": []
  }
 ],
 "metadata": {
  "kernelspec": {
   "display_name": "Python 3 (ipykernel)",
   "language": "python",
   "name": "python3"
  },
  "language_info": {
   "codemirror_mode": {
    "name": "ipython",
    "version": 3
   },
   "file_extension": ".py",
   "mimetype": "text/x-python",
   "name": "python",
   "nbconvert_exporter": "python",
   "pygments_lexer": "ipython3",
   "version": "3.8.10"
  }
 },
 "nbformat": 4,
 "nbformat_minor": 5
}
