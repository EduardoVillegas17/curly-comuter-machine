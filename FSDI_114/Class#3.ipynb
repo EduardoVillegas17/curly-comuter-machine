{
 "cells": [
  {
   "cell_type": "code",
   "execution_count": null,
   "id": "1cff4b9b",
   "metadata": {},
   "outputs": [],
   "source": [
    "class Node:\n",
    "    def __init__(self, data):\n",
    "        self.data = data\n",
    "        self.above = None\n",
    "\n",
    "class Stack:\n",
    "    def __init__(self):\n",
    "        self.base = None\n",
    "\n",
    "    def push(self, item):\n",
    "        if not self.base:\n",
    "            self.base = Node(item)\n",
    "            else:\n",
    "                corrent = self.base\n",
    "                while corrent.above:\n",
    "                    current = current.above:\n",
    "                current.above = Node(item)\n",
    "                \n",
    "    def pop(self):\n",
    "        # remember that pop both removes and returns the topmost value\n",
    "        # from our stack.\n",
    "        \n",
    "    def is_empty(self):\n",
    "        if not self.base:\n",
    "            return True\n",
    "        return False\n",
    "        \n",
    "    def size (self): \n",
    "        pass\n",
    "    \n",
    "    def peek(self):\n",
    "        pass"
   ]
  }
 ],
 "metadata": {
  "kernelspec": {
   "display_name": "Python 3 (ipykernel)",
   "language": "python",
   "name": "python3"
  },
  "language_info": {
   "codemirror_mode": {
    "name": "ipython",
    "version": 3
   },
   "file_extension": ".py",
   "mimetype": "text/x-python",
   "name": "python",
   "nbconvert_exporter": "python",
   "pygments_lexer": "ipython3",
   "version": "3.8.10"
  }
 },
 "nbformat": 4,
 "nbformat_minor": 5
}
