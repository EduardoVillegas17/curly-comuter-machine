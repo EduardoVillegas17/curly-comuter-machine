{
 "cells": [
  {
   "cell_type": "code",
   "execution_count": 1,
   "id": "d2974e7b",
   "metadata": {},
   "outputs": [
    {
     "name": "stdout",
     "output_type": "stream",
     "text": [
      "H\n",
      "e\n",
      "l\n",
      "l\n",
      "o\n",
      ",\n",
      " \n",
      "w\n",
      "o\n",
      "r\n",
      "l\n",
      "d\n",
      "!\n"
     ]
    }
   ],
   "source": [
    "for letter in \"Hello, world!\":\n",
    "    print(letter)\n",
    "    "
   ]
  },
  {
   "cell_type": "markdown",
   "id": "628ee9c1",
   "metadata": {},
   "source": [
    "#Problem 1\n",
    "\n",
    "### Given two strings (string_a and string_b) let's check where or not these are anagrams of each other given the following criterial:\n",
    "\n",
    "###Two strings are anagram of each other if all conditions below are met:\n",
    "\n",
    "1.\n",
    "2.\n"
   ]
  },
  {
   "cell_type": "code",
   "execution_count": 2,
   "id": "2bfba090",
   "metadata": {},
   "outputs": [
    {
     "ename": "SyntaxError",
     "evalue": "invalid syntax (1388067426.py, line 4)",
     "output_type": "error",
     "traceback": [
      "\u001b[0;36m  Input \u001b[0;32mIn [2]\u001b[0;36m\u001b[0m\n\u001b[0;31m    def are_anagrams (string_a, string_b)\u001b[0m\n\u001b[0m                                         ^\u001b[0m\n\u001b[0;31mSyntaxError\u001b[0m\u001b[0;31m:\u001b[0m invalid syntax\n"
     ]
    }
   ],
   "source": [
    "#Instructions: populate the function below, so that it returns True if the parameters are anagrams,\n",
    "#false otherwise.\n",
    "\n",
    "def are_anagrams (string_a, string_b)\n",
    "pass # remove pass when you've mplemented the solution\n"
   ]
  },
  {
   "cell_type": "code",
   "execution_count": 3,
   "id": "efd916bf",
   "metadata": {},
   "outputs": [],
   "source": [
    "def are_anagrams(string_a, string_b):\n",
    "    pass # remove pass when you've mplemented the sol"
   ]
  },
  {
   "cell_type": "code",
   "execution_count": 4,
   "id": "c0de3b11",
   "metadata": {},
   "outputs": [],
   "source": [
    "def bad_are_anagrams(string_a, string_b):\n",
    "    return sorted(string_a) == sorted(string_b)"
   ]
  },
  {
   "cell_type": "code",
   "execution_count": 5,
   "id": "99af5dc7",
   "metadata": {},
   "outputs": [
    {
     "data": {
      "text/plain": [
       "True"
      ]
     },
     "execution_count": 5,
     "metadata": {},
     "output_type": "execute_result"
    }
   ],
   "source": [
    "bad_are_anagrams(\"cars\", \"scar\")"
   ]
  },
  {
   "cell_type": "code",
   "execution_count": null,
   "id": "8ee6fe47",
   "metadata": {},
   "outputs": [],
   "source": []
  }
 ],
 "metadata": {
  "kernelspec": {
   "display_name": "Python 3 (ipykernel)",
   "language": "python",
   "name": "python3"
  },
  "language_info": {
   "codemirror_mode": {
    "name": "ipython",
    "version": 3
   },
   "file_extension": ".py",
   "mimetype": "text/x-python",
   "name": "python",
   "nbconvert_exporter": "python",
   "pygments_lexer": "ipython3",
   "version": "3.8.10"
  }
 },
 "nbformat": 4,
 "nbformat_minor": 5
}
